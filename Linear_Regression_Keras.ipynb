{
  "nbformat": 4,
  "nbformat_minor": 0,
  "metadata": {
    "colab": {
      "name": "Linear_Regression_Keras.ipynb",
      "provenance": [],
      "collapsed_sections": [],
      "authorship_tag": "ABX9TyMpTVQauKht/Cys4c0zI2s3",
      "include_colab_link": true
    },
    "kernelspec": {
      "name": "python3",
      "display_name": "Python 3"
    }
  },
  "cells": [
    {
      "cell_type": "markdown",
      "metadata": {
        "id": "view-in-github",
        "colab_type": "text"
      },
      "source": [
        "<a href=\"https://colab.research.google.com/github/sijuswamy/Deep-Learning-and-Neural-Network-FDP-/blob/main/Linear_Regression_Keras.ipynb\" target=\"_parent\"><img src=\"https://colab.research.google.com/assets/colab-badge.svg\" alt=\"Open In Colab\"/></a>"
      ]
    },
    {
      "cell_type": "markdown",
      "metadata": {
        "id": "1cMeF0BqeW4i"
      },
      "source": [
        "# Linear Regression Using Keras"
      ]
    },
    {
      "cell_type": "markdown",
      "metadata": {
        "id": "zUokF0U2XBnm"
      },
      "source": [
        "## Step 1: Loading basic libraries"
      ]
    },
    {
      "cell_type": "code",
      "metadata": {
        "id": "oT_p7V-keM5c"
      },
      "source": [
        "import matplotlib.pyplot as plt\n",
        "import numpy as np\n"
      ],
      "execution_count": null,
      "outputs": []
    },
    {
      "cell_type": "markdown",
      "metadata": {
        "id": "QYSYb_GtXFE2"
      },
      "source": [
        "## Step 2: Create input and ground truth"
      ]
    },
    {
      "cell_type": "code",
      "metadata": {
        "id": "pEh0YcO1ees5"
      },
      "source": [
        "data = np.linspace(0,1,101).reshape(-1,1)\n",
        "y = 1+5*data+data*np.random.random(len(data))"
      ],
      "execution_count": null,
      "outputs": []
    },
    {
      "cell_type": "code",
      "metadata": {
        "id": "nwgsXfTT_Q5P"
      },
      "source": [
        ""
      ],
      "execution_count": null,
      "outputs": []
    },
    {
      "cell_type": "markdown",
      "metadata": {
        "id": "1Y9No6OAXLz1"
      },
      "source": [
        "## Step 3: Design a Neural Network"
      ]
    },
    {
      "cell_type": "code",
      "metadata": {
        "colab": {
          "base_uri": "https://localhost:8080/"
        },
        "id": "BmtCxxEoORhi",
        "outputId": "b5290ddc-49d4-4e95-f910-a68c03b353e6"
      },
      "source": [
        "from tensorflow.keras.models import Sequential\n",
        "from tensorflow.keras.layers import Dense\n",
        "from sklearn.metrics import roc_curve, auc\n",
        "model = Sequential()\n",
        "model.add(Dense(100, activation = 'relu', input_dim = 1))\n",
        "model.add(Dense(500 , activation = 'linear'))\n",
        "model.add(Dense(1 , activation = 'linear'))\n",
        "model.summary()"
      ],
      "execution_count": null,
      "outputs": [
        {
          "output_type": "stream",
          "text": [
            "Model: \"sequential_1\"\n",
            "_________________________________________________________________\n",
            "Layer (type)                 Output Shape              Param #   \n",
            "=================================================================\n",
            "dense_3 (Dense)              (None, 100)               200       \n",
            "_________________________________________________________________\n",
            "dense_4 (Dense)              (None, 500)               50500     \n",
            "_________________________________________________________________\n",
            "dense_5 (Dense)              (None, 1)                 501       \n",
            "=================================================================\n",
            "Total params: 51,201\n",
            "Trainable params: 51,201\n",
            "Non-trainable params: 0\n",
            "_________________________________________________________________\n"
          ],
          "name": "stdout"
        }
      ]
    },
    {
      "cell_type": "markdown",
      "metadata": {
        "id": "2Q_CkBA-XRje"
      },
      "source": [
        "## Step 4: Build and Train the Model"
      ]
    },
    {
      "cell_type": "code",
      "metadata": {
        "colab": {
          "base_uri": "https://localhost:8080/"
        },
        "id": "RHDSo1y7fDNo",
        "outputId": "60ad155c-ab7b-4e2c-8454-737ba12185c3"
      },
      "source": [
        "model.compile(optimizer = 'rmsprop', loss = 'mean_squared_error',metrics=['mae'])\n",
        "model.fit(data,y,epochs =20,validation_split=0.1, verbose = 1)"
      ],
      "execution_count": null,
      "outputs": [
        {
          "output_type": "stream",
          "text": [
            "Epoch 1/20\n",
            "3/3 [==============================] - 1s 76ms/step - loss: 0.2617 - mae: 0.3519 - val_loss: 0.0750 - val_mae: 0.2369\n",
            "Epoch 2/20\n",
            "3/3 [==============================] - 0s 13ms/step - loss: 0.0218 - mae: 0.1121 - val_loss: 0.0732 - val_mae: 0.2372\n",
            "Epoch 3/20\n",
            "3/3 [==============================] - 0s 15ms/step - loss: 0.0216 - mae: 0.1117 - val_loss: 0.0734 - val_mae: 0.2370\n",
            "Epoch 4/20\n",
            "3/3 [==============================] - 0s 13ms/step - loss: 0.0216 - mae: 0.1115 - val_loss: 0.0733 - val_mae: 0.2377\n",
            "Epoch 5/20\n",
            "3/3 [==============================] - 0s 15ms/step - loss: 0.0217 - mae: 0.1119 - val_loss: 0.0753 - val_mae: 0.2370\n",
            "Epoch 6/20\n",
            "3/3 [==============================] - 0s 12ms/step - loss: 0.0250 - mae: 0.1177 - val_loss: 0.1500 - val_mae: 0.3230\n",
            "Epoch 7/20\n",
            "3/3 [==============================] - 0s 13ms/step - loss: 0.0928 - mae: 0.2499 - val_loss: 0.2431 - val_mae: 0.4120\n",
            "Epoch 8/20\n",
            "3/3 [==============================] - 0s 14ms/step - loss: 0.0458 - mae: 0.1646 - val_loss: 0.0947 - val_mae: 0.2625\n",
            "Epoch 9/20\n",
            "3/3 [==============================] - 0s 14ms/step - loss: 0.0299 - mae: 0.1297 - val_loss: 0.0943 - val_mae: 0.2494\n",
            "Epoch 10/20\n",
            "3/3 [==============================] - 0s 13ms/step - loss: 0.0301 - mae: 0.1282 - val_loss: 0.1269 - val_mae: 0.3003\n",
            "Epoch 11/20\n",
            "3/3 [==============================] - 0s 23ms/step - loss: 0.0507 - mae: 0.1722 - val_loss: 0.1779 - val_mae: 0.3359\n",
            "Epoch 12/20\n",
            "3/3 [==============================] - 0s 14ms/step - loss: 0.0653 - mae: 0.2005 - val_loss: 0.0950 - val_mae: 0.2628\n",
            "Epoch 13/20\n",
            "3/3 [==============================] - 0s 15ms/step - loss: 0.0286 - mae: 0.1268 - val_loss: 0.0866 - val_mae: 0.2433\n",
            "Epoch 14/20\n",
            "3/3 [==============================] - 0s 20ms/step - loss: 0.0273 - mae: 0.1221 - val_loss: 0.1097 - val_mae: 0.2810\n",
            "Epoch 15/20\n",
            "3/3 [==============================] - 0s 13ms/step - loss: 0.0431 - mae: 0.1570 - val_loss: 0.1968 - val_mae: 0.3567\n",
            "Epoch 16/20\n",
            "3/3 [==============================] - 0s 14ms/step - loss: 0.0646 - mae: 0.1992 - val_loss: 0.1405 - val_mae: 0.3141\n",
            "Epoch 17/20\n",
            "3/3 [==============================] - 0s 16ms/step - loss: 0.0385 - mae: 0.1479 - val_loss: 0.1120 - val_mae: 0.2667\n",
            "Epoch 18/20\n",
            "3/3 [==============================] - 0s 15ms/step - loss: 0.0357 - mae: 0.1406 - val_loss: 0.1215 - val_mae: 0.2945\n",
            "Epoch 19/20\n",
            "3/3 [==============================] - 0s 17ms/step - loss: 0.0429 - mae: 0.1569 - val_loss: 0.1378 - val_mae: 0.2929\n",
            "Epoch 20/20\n",
            "3/3 [==============================] - 0s 21ms/step - loss: 0.0550 - mae: 0.1811 - val_loss: 0.0908 - val_mae: 0.2582\n"
          ],
          "name": "stdout"
        },
        {
          "output_type": "execute_result",
          "data": {
            "text/plain": [
              "<tensorflow.python.keras.callbacks.History at 0x7f7f900cdcd0>"
            ]
          },
          "metadata": {
            "tags": []
          },
          "execution_count": 24
        }
      ]
    },
    {
      "cell_type": "markdown",
      "metadata": {
        "id": "dWUH_nl7XX1G"
      },
      "source": [
        "## Step 5: Visualizing the Output"
      ]
    },
    {
      "cell_type": "code",
      "metadata": {
        "colab": {
          "base_uri": "https://localhost:8080/",
          "height": 497
        },
        "id": "yMGEd1JMRoMw",
        "outputId": "dbc99cdf-6631-491a-93b9-8a0c14dfc8c5"
      },
      "source": [
        "plt.figure(figsize = (10,8))\n",
        "plt.plot(data, y, 'b.')\n",
        "plt.plot(data, model.predict(data), 'r')\n",
        "plt.xlabel('x')\n",
        "plt.ylabel('y')\n",
        "plt.show()"
      ],
      "execution_count": null,
      "outputs": [
        {
          "output_type": "display_data",
          "data": {
            "image/png": "[encoded data removed]",
            "text/plain": [
              "<Figure size 720x576 with 1 Axes>"
            ]
          },
          "metadata": {
            "tags": [],
            "needs_background": "light"
          }
        }
      ]
    },
    {
      "cell_type": "markdown",
      "metadata": {
        "id": "U3zunxa0Xfa2"
      },
      "source": [
        "## Step 6: Test the Model on new data set"
      ]
    },
    {
      "cell_type": "code",
      "metadata": {
        "id": "0EWv4IDQUMW2"
      },
      "source": [
        "test_data = np.linspace(1,5,10).reshape(-1,1)"
      ],
      "execution_count": null,
      "outputs": []
    },
    {
      "cell_type": "code",
      "metadata": {
        "id": "6Qk7vZ7SC_ZF"
      },
      "source": [
        "print(test_data)"
      ],
      "execution_count": null,
      "outputs": []
    },
    {
      "cell_type": "code",
      "metadata": {
        "colab": {
          "base_uri": "https://localhost:8080/"
        },
        "id": "nqbi5BjkUJxf",
        "outputId": "c4c909ee-4df8-4115-9483-8d68ce2ccf9b"
      },
      "source": [
        "test_loss = model.evaluate(test_data)"
      ],
      "execution_count": null,
      "outputs": [
        {
          "output_type": "stream",
          "text": [
            "1/1 [==============================] - 0s 59ms/step - loss: 0.0000e+00 - accuracy: 0.0000e+00\n"
          ],
          "name": "stdout"
        }
      ]
    }
  ]
}